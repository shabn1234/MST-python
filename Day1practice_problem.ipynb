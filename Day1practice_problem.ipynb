{
  "nbformat": 4,
  "nbformat_minor": 0,
  "metadata": {
    "colab": {
      "provenance": []
    },
    "kernelspec": {
      "name": "python3",
      "display_name": "Python 3"
    },
    "language_info": {
      "name": "python"
    }
  },
  "cells": [
    {
      "cell_type": "code",
      "execution_count": null,
      "metadata": {
        "colab": {
          "base_uri": "https://localhost:8080/"
        },
        "id": "BiDtyxzoKOTL",
        "outputId": "d07c049a-dc91-497c-bcea-c0d51f2179ce"
      },
      "outputs": [
        {
          "output_type": "stream",
          "name": "stdout",
          "text": [
            "Hello\n"
          ]
        }
      ],
      "source": [
        "####1. Given the string \"Hello, World!\", extract and print the substring \"Hello\n",
        "\n",
        "txt = \"Hello,World\"\n",
        "x = txt[:5]\n",
        "print(x)"
      ]
    },
    {
      "cell_type": "code",
      "source": [
        "##### 2. Given the string \"Python is fun\", extract and print the substring \"is\".\n",
        "txt = \"Python is fun\"\n",
        "print(txt[7:9])"
      ],
      "metadata": {
        "colab": {
          "base_uri": "https://localhost:8080/"
        },
        "id": "YBpyuI0AQaZ3",
        "outputId": "d8e38e77-7086-4802-b596-2933a3ece726"
      },
      "execution_count": null,
      "outputs": [
        {
          "output_type": "stream",
          "name": "stdout",
          "text": [
            "is\n"
          ]
        }
      ]
    },
    {
      "cell_type": "code",
      "source": [
        "####  3. Given the string \"Programming\", extract and print the substring \"gram\" using slicing indices.\n",
        "\n",
        "txt = \"Programming\"\n",
        "x = txt[3:7]\n",
        "print(x)"
      ],
      "metadata": {
        "id": "X57Diu1VRrBm",
        "colab": {
          "base_uri": "https://localhost:8080/"
        },
        "outputId": "a1dc3aaf-ea88-45e7-d1c3-e679e43686ae"
      },
      "execution_count": 1,
      "outputs": [
        {
          "output_type": "stream",
          "name": "stdout",
          "text": [
            "gram\n"
          ]
        }
      ]
    },
    {
      "cell_type": "code",
      "source": [
        "#### 4. Given the string \"abcdefgh\", use slicing to print only the characters at even indices.\n",
        "txt = 'abcdefgh'\n",
        "x = txt [::2]\n",
        "print(x)"
      ],
      "metadata": {
        "colab": {
          "base_uri": "https://localhost:8080/"
        },
        "id": "e8aCk2eEhrlP",
        "outputId": "2a289b39-b2ee-49a3-e108-260ff410991d"
      },
      "execution_count": 2,
      "outputs": [
        {
          "output_type": "stream",
          "name": "stdout",
          "text": [
            "aceg\n"
          ]
        }
      ]
    },
    {
      "cell_type": "code",
      "source": [
        "##### 5. Given the string \"abcdefg\", use negative indices to extract and print the substring \"efg\".\n",
        "txt = 'abcdefg'\n",
        "x = txt[-3:]\n",
        "print(x)"
      ],
      "metadata": {
        "colab": {
          "base_uri": "https://localhost:8080/"
        },
        "id": "lvTVEMINiaay",
        "outputId": "50139c19-a40e-4c8b-c5fb-f81d797394ae"
      },
      "execution_count": 11,
      "outputs": [
        {
          "output_type": "stream",
          "name": "stdout",
          "text": [
            "efg\n"
          ]
        }
      ]
    },
    {
      "cell_type": "code",
      "source": [
        "#### 6. Given the string \"Data Science\", use negative indices to extract and print the last three characters.\n",
        "txt = \"Data Science\"\n",
        "print(txt[-3:])"
      ],
      "metadata": {
        "colab": {
          "base_uri": "https://localhost:8080/"
        },
        "id": "7ixygs5UjxBO",
        "outputId": "48dafe9c-6243-42af-ad48-59b9252f130a"
      },
      "execution_count": 12,
      "outputs": [
        {
          "output_type": "stream",
          "name": "stdout",
          "text": [
            "nce\n"
          ]
        }
      ]
    },
    {
      "cell_type": "code",
      "source": [
        "#### 7. Given the string \"abcdefghij\", use slicing with a step to print every second character.\n",
        "txt = 'abcdefghij'\n",
        "print(txt[::2])"
      ],
      "metadata": {
        "colab": {
          "base_uri": "https://localhost:8080/"
        },
        "id": "2Oxa9gmukRfp",
        "outputId": "92064a60-8a4d-43e8-c8cf-9f9aa8be5364"
      },
      "execution_count": 17,
      "outputs": [
        {
          "output_type": "stream",
          "name": "stdout",
          "text": [
            "acegi\n"
          ]
        }
      ]
    },
    {
      "cell_type": "code",
      "source": [
        "#### 8. Given the string \"1234567890\", use slicing with a step to print the odd digits.\n",
        "x = '1234567890'\n",
        "print(x[::2])\n"
      ],
      "metadata": {
        "colab": {
          "base_uri": "https://localhost:8080/"
        },
        "id": "WkXvDY6_msyD",
        "outputId": "fbebed46-dff5-437b-fb1e-f0ce307bbc04"
      },
      "execution_count": 18,
      "outputs": [
        {
          "output_type": "stream",
          "name": "stdout",
          "text": [
            "13579\n"
          ]
        }
      ]
    },
    {
      "cell_type": "code",
      "source": [
        "#### 9. Given the string \"Hello\", use slicing to print the string in reverse order.\n",
        "txt = 'Hello'\n",
        "print(txt[::-1])"
      ],
      "metadata": {
        "colab": {
          "base_uri": "https://localhost:8080/"
        },
        "id": "2WRg0zCPnPZL",
        "outputId": "1ad1881f-8a34-4325-89d3-34bcc47622e6"
      },
      "execution_count": 21,
      "outputs": [
        {
          "output_type": "stream",
          "name": "stdout",
          "text": [
            "olleH\n"
          ]
        }
      ]
    },
    {
      "cell_type": "code",
      "source": [
        "#### 10. Given the string \"abcdefghijk\", extract and print the substring \"acegik\" using slicing.\n",
        "\n",
        "txt = \"abcdefghijk\"\n",
        "print(txt[::2])"
      ],
      "metadata": {
        "colab": {
          "base_uri": "https://localhost:8080/"
        },
        "id": "-ojPFPs3n6SG",
        "outputId": "cd8ff054-6b10-4f6a-8b81-60bda5974aea"
      },
      "execution_count": 22,
      "outputs": [
        {
          "output_type": "stream",
          "name": "stdout",
          "text": [
            "acegik\n"
          ]
        }
      ]
    }
  ]
}