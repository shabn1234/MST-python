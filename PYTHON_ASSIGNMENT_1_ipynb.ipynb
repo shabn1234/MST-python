{
  "nbformat": 4,
  "nbformat_minor": 0,
  "metadata": {
    "colab": {
      "provenance": []
    },
    "kernelspec": {
      "name": "python3",
      "display_name": "Python 3"
    },
    "language_info": {
      "name": "python"
    }
  },
  "cells": [
    {
      "cell_type": "code",
      "execution_count": 1,
      "metadata": {
        "colab": {
          "base_uri": "https://localhost:8080/"
        },
        "id": "-Zn_pvJ6HroS",
        "outputId": "69ea0825-4859-4910-9d66-2b19736c13be"
      },
      "outputs": [
        {
          "output_type": "stream",
          "name": "stdout",
          "text": [
            "Enter a word  :MALAYALAM\n",
            "palindrome\n"
          ]
        }
      ],
      "source": [
        "### Intermediate Assessment 01\n",
        "\n",
        "### 1. Write a python program to check if the entered string is palindrome or not. Get the input string from user (A palindrome is a word, phrase,\n",
        "###number, or sequence of characters that reads the same backward as forward)\n",
        "\n",
        "## Sample input : malayalam\n",
        "## Sample output : palindrome\n",
        "## Sample input : computer\n",
        "## Sample output : not palindrome\n",
        "\n",
        "\n",
        "\n",
        "WORD=input(\"Enter a word  :\")\n",
        "word = WORD.lower()\n",
        "if word == word[::-1] :\n",
        "  print(\"palindrome\")\n",
        "else :\n",
        "  print(\"not palindrome\")\n"
      ]
    },
    {
      "cell_type": "code",
      "source": [
        "#### 2.Write a python program to check if the given number is divisible by 9\n",
        "\n",
        "num=int(input('enter a number :'))\n",
        "if num%9==0:\n",
        "  print(num,\"is divisible by 9\")\n",
        "else :\n",
        " print(num,\"is not divisible by 9\")"
      ],
      "metadata": {
        "colab": {
          "base_uri": "https://localhost:8080/"
        },
        "id": "1HqQ9FZvhKF6",
        "outputId": "09bd4419-9674-4551-eb30-97e878b8aad4"
      },
      "execution_count": 9,
      "outputs": [
        {
          "output_type": "stream",
          "name": "stdout",
          "text": [
            "enter a number :28\n",
            "28 is not divisible by 9\n"
          ]
        }
      ]
    },
    {
      "cell_type": "code",
      "source": [
        "### 3. Write a python program to print odd numbers between 300 and 500\n",
        "\n",
        "for i in range(300,501):\n",
        "  if i%2!=0:\n",
        "    print(i,end=\" \")"
      ],
      "metadata": {
        "colab": {
          "base_uri": "https://localhost:8080/"
        },
        "id": "b10CA2tCjs4M",
        "outputId": "637afad8-e8ce-44b6-93de-3408f682b194"
      },
      "execution_count": 6,
      "outputs": [
        {
          "output_type": "stream",
          "name": "stdout",
          "text": [
            "301 303 305 307 309 311 313 315 317 319 321 323 325 327 329 331 333 335 337 339 341 343 345 347 349 351 353 355 357 359 361 363 365 367 369 371 373 375 377 379 381 383 385 387 389 391 393 395 397 399 401 403 405 407 409 411 413 415 417 419 421 423 425 427 429 431 433 435 437 439 441 443 445 447 449 451 453 455 457 459 461 463 465 467 469 471 473 475 477 479 481 483 485 487 489 491 493 495 497 499 "
          ]
        }
      ]
    },
    {
      "cell_type": "code",
      "source": [
        "####  4. Get two numbers from user and print their sum, difference, product and quotient after division\n",
        "\n",
        "\n",
        "num1=int(input('enter first number :'))\n",
        "num2=int(input('enter second number :'))\n",
        "sum=num1+num2\n",
        "print(\"sum is \",sum)\n",
        "diff=num1-num2\n",
        "print(\"difference is \",diff)\n",
        "product = num1*num2\n",
        "print(\"product is \",product)\n",
        "quotient=num1//num2\n",
        "print(\"quotient is \",quotient)"
      ],
      "metadata": {
        "colab": {
          "base_uri": "https://localhost:8080/"
        },
        "id": "fanGhoiTkAI0",
        "outputId": "204586cb-84ac-4bb9-ee0d-26efea831d3e"
      },
      "execution_count": 10,
      "outputs": [
        {
          "output_type": "stream",
          "name": "stdout",
          "text": [
            "enter first number :50\n",
            "enter second number :2\n",
            "sum is  52\n",
            "difference is  48\n",
            "product is  100\n",
            "quotient is  25\n"
          ]
        }
      ]
    },
    {
      "cell_type": "code",
      "source": [
        "### 5.  Write a python function to find the product of 2 numbers.\n",
        "\n",
        "\n",
        "def product(num1,num2):\n",
        "  result=num1*num2\n",
        "  print(\"Product is \",result)\n",
        "\n",
        "\n",
        "product(8,5)"
      ],
      "metadata": {
        "colab": {
          "base_uri": "https://localhost:8080/"
        },
        "id": "1IWb7I25kL4F",
        "outputId": "f1a3cd38-af35-4cda-d456-f97eb128e213"
      },
      "execution_count": 11,
      "outputs": [
        {
          "output_type": "stream",
          "name": "stdout",
          "text": [
            "Product is  40\n"
          ]
        }
      ]
    }
  ]
}