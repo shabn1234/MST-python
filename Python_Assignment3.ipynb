{
  "nbformat": 4,
  "nbformat_minor": 0,
  "metadata": {
    "colab": {
      "provenance": []
    },
    "kernelspec": {
      "name": "python3",
      "display_name": "Python 3"
    },
    "language_info": {
      "name": "python"
    }
  },
  "cells": [
    {
      "cell_type": "code",
      "execution_count": null,
      "metadata": {
        "id": "3YyEdFsAhLdJ"
      },
      "outputs": [],
      "source": [
        "    ##### ASSIGNMENT 3\n",
        "\n",
        " #####   1. Write a function that returns the middle value among three integers.Write code to test this function with different inputs.\n"
      ]
    },
    {
      "cell_type": "code",
      "source": [
        "def mid_value(a, b, c):\n",
        "    values = [a, b, c]\n",
        "    values.sort()\n",
        "    return values[1]\n",
        "\n",
        "def test_mid_value():\n",
        "    test_cases = [\n",
        "        (3, 1, 2, 2),\n",
        "        (10, 20, 30, 20),\n",
        "        (5, 5, 5, 5),\n",
        "        (-1, -3, -5, -3),\n",
        "        (75, 50, 100, 75)\n",
        "    ]\n",
        "\n",
        "    for x in test_cases:\n",
        "        a, b, c, expected = x\n",
        "        result = mid_value(a, b, c)\n",
        "        print(f\"For test case {x}, the middle value is {result} (Expected: {expected})\")\n",
        "\n",
        "test_mid_value()\n",
        "\n"
      ],
      "metadata": {
        "colab": {
          "base_uri": "https://localhost:8080/"
        },
        "id": "JEKFy3hjhZIJ",
        "outputId": "0796d2de-4ced-4862-fef0-27571b141a20"
      },
      "execution_count": null,
      "outputs": [
        {
          "output_type": "stream",
          "name": "stdout",
          "text": [
            "For test case (3, 1, 2, 2), the middle value is 2 (Expected: 2)\n",
            "For test case (10, 20, 30, 20), the middle value is 20 (Expected: 20)\n",
            "For test case (5, 5, 5, 5), the middle value is 5 (Expected: 5)\n",
            "For test case (-1, -3, -5, -3), the middle value is -3 (Expected: -3)\n",
            "For test case (75, 50, 100, 75), the middle value is 75 (Expected: 75)\n"
          ]
        }
      ]
    },
    {
      "cell_type": "code",
      "source": [
        "#### 2. Build a calculator in Python using functions\n",
        "\n",
        "print(\"....\\t\\t\\t CALCULATOR \\t.....\")\n",
        "\n",
        "def add(x, y):\n",
        "    return x + y\n",
        "\n",
        "def subtract(x, y):\n",
        "    return x - y\n",
        "\n",
        "def multiply(x, y):\n",
        "    return x * y\n",
        "\n",
        "def divide(x, y):\n",
        "    if y != 0:\n",
        "        return x / y\n",
        "    else:\n",
        "        return \"Cannot divide by zero\"\n",
        "\n",
        "def calculator():\n",
        "    num1 = float(input(\"Enter first number: \"))\n",
        "    num2 = float(input(\"Enter second number: \"))\n",
        "\n",
        "    while True:\n",
        "        print(\"\\nSelect operation:\")\n",
        "        print(\"1. Add\")\n",
        "        print(\"2. Subtract\")\n",
        "        print(\"3. Multiply\")\n",
        "        print(\"4. Divide\")\n",
        "        print(\"5. Exit\")\n",
        "        print(\"6. Change numbers\")\n",
        "\n",
        "\n",
        "        choice = int(input(\"Enter choice: \"))\n",
        "\n",
        "\n",
        "        if choice == 1:\n",
        "            print(f\"{num1} + {num2} = {add(num1, num2)}\")\n",
        "        elif choice == 2:\n",
        "            print(f\"{num1} - {num2} = {subtract(num1, num2)}\")\n",
        "        elif choice == 3:\n",
        "            print(f\"{num1} * {num2} = {multiply(num1, num2)}\")\n",
        "        elif choice == 4:\n",
        "            print(f\"{num1} / {num2} = {divide(num1, num2)}\")\n",
        "        elif choice == 5:\n",
        "            print(\"Exiting...\")\n",
        "            break\n",
        "        elif choice == 6:\n",
        "            num1 = float(input(\"Enter first number: \"))\n",
        "            num2 = float(input(\"Enter second number: \"))\n",
        "        else:\n",
        "            print(\"Invalid input\")\n",
        "\n",
        "\n",
        "calculator()\n"
      ],
      "metadata": {
        "colab": {
          "base_uri": "https://localhost:8080/"
        },
        "id": "Mnbg54Dftx60",
        "outputId": "8f006b08-4f17-47db-9240-43800ab7549c"
      },
      "execution_count": null,
      "outputs": [
        {
          "output_type": "stream",
          "name": "stdout",
          "text": [
            "....\t\t\t CALCULATOR \t.....\n",
            "Enter first number: 5\n",
            "Enter second number: 8\n",
            "\n",
            "Select operation:\n",
            "1. Add\n",
            "2. Subtract\n",
            "3. Multiply\n",
            "4. Divide\n",
            "5. Exit\n",
            "6. Change numbers\n",
            "Enter choice: 1\n",
            "5.0 + 8.0 = 13.0\n",
            "\n",
            "Select operation:\n",
            "1. Add\n",
            "2. Subtract\n",
            "3. Multiply\n",
            "4. Divide\n",
            "5. Exit\n",
            "6. Change numbers\n",
            "Enter choice: 5\n",
            "Exiting...\n"
          ]
        }
      ]
    },
    {
      "cell_type": "code",
      "source": [
        "#### 3. . Write a function that takes the lengths of the two shorter sides of a right triangle as its parameters. Return the hypotenuse of the triangle, computed using Pythagorean theorem,as the function’s result.\n",
        "\n",
        "import math\n",
        "def tri(x,y) :\n",
        "  return math.sqrt (x**2 + y**2)\n",
        "\n",
        "\n",
        "result = tri(4,5)\n",
        "print(\"Hypotenuse of the triangle is:\",result)"
      ],
      "metadata": {
        "colab": {
          "base_uri": "https://localhost:8080/"
        },
        "id": "L6xYZyFBkCZ1",
        "outputId": "0f5307f0-d368-489a-bb4e-33b27b1050c2"
      },
      "execution_count": null,
      "outputs": [
        {
          "output_type": "stream",
          "name": "stdout",
          "text": [
            "Hypotenuse of the triangle is: 6.4031242374328485\n"
          ]
        }
      ]
    },
    {
      "cell_type": "code",
      "source": [
        "#### 4. The Rectangle problem\n",
        "####    (a) Write a Rectangle class in Python language, allowing you to build a rectangle with length and width attributes.\n",
        "####    (b) Create a Perimeter() method to calculate the perimeter of the rectangle and a Area() method to calculate the area of the rectangle.\n",
        "####    (c) Create a method display() that display the length, width, perimeter and area of an object created using an instantiation on rectangle class"
      ],
      "metadata": {
        "id": "zPmIP8XZpx6p"
      },
      "execution_count": null,
      "outputs": []
    },
    {
      "cell_type": "code",
      "source": [
        "class Rectangle:\n",
        "    def __init__(self, length, width):\n",
        "        self.length = length\n",
        "        self.width = width\n",
        "\n",
        "    def perimeter(self):\n",
        "      return 2 * (self.length + self.width)\n",
        "\n",
        "    def area(self):\n",
        "      return self.length * self.width\n",
        "\n",
        "    def display(self):\n",
        "        print(f\"Length: {self.length}\")\n",
        "        print(f\"Width: {self.width}\")\n",
        "        print(f\"Perimeter: {self.perimeter()}\")\n",
        "        print(f\"Area: {self.area()}\")\n",
        "\n",
        "rect = Rectangle(5, 3)\n",
        "rect.display()\n"
      ],
      "metadata": {
        "colab": {
          "base_uri": "https://localhost:8080/"
        },
        "id": "oAdLoGySsf30",
        "outputId": "485f4335-f5e0-4844-dfe7-f9728911dbc5"
      },
      "execution_count": null,
      "outputs": [
        {
          "output_type": "stream",
          "name": "stdout",
          "text": [
            "Length: 5\n",
            "Width: 3\n",
            "Perimeter: 16\n",
            "Area: 15\n"
          ]
        }
      ]
    },
    {
      "cell_type": "code",
      "source": [
        "#### 5. The Bank Account problem\n",
        "###   (a) Create a Python class called BankAccount which represents a bank account, having as attributes: accountNumber (numeric type), name (name of the account owner as string type), balance.\n",
        "####  (b) Create a constructor with parameters: accountNumber, name, balance.\n",
        "####  (c) Create a Deposit() method which manages the deposit actions.\n",
        "####  (d) Create a Withdrawal() method which manages withdrawals actions.\n",
        "####  (e) Create an bankFees() method to apply the bank fees with a percentage of 5% of the balance account.\n",
        "####  (f) Create a display() method to display account details '''\n",
        "\n",
        "class BankAccount :\n",
        "  def __init__(self,accountNumber,name,balance):\n",
        "    self.accountNumber = accountNumber\n",
        "    self.name   =  name\n",
        "    self.balance = balance\n",
        "\n",
        "  def deposit(self,amount):\n",
        "\n",
        "    if amount > 0 :\n",
        "      self.balance += amount\n",
        "      print(f\"Deposited amount: {amount}. New balance: {self.balance}.\")\n",
        "    else :\n",
        "      print(\"Deposit amount must be positive.\")\n",
        "\n",
        "  def withdrawal(self, amount):\n",
        "        if amount > 0 and amount <= self.balance:\n",
        "            self.balance -= amount\n",
        "            print(f\"Withdrew: {amount}. New balance: {self.balance}.\")\n",
        "        elif amount > self.balance:\n",
        "            print(\"Insufficient balance.\")\n",
        "        else:\n",
        "            print(\"Withdrawal amount must be positive.\")\n",
        "\n",
        "  def bankFees(self):\n",
        "        fee = self.balance * 0.05\n",
        "        self.balance -= fee\n",
        "        print(f\"Bank fees of {fee} applied. New balance: {self.balance}.\")\n",
        "\n",
        "  def display(self):\n",
        "        print(\"Account Details:\")\n",
        "        print(f\"Account Number: {self.accountNumber}\")\n",
        "        print(f\"Account Owner: {self.name}\")\n",
        "        print(f\"Account Balance: {self.balance}\")\n",
        "\n",
        "account = BankAccount(123456, \"John\", 10000)\n",
        "\n",
        "account.display()\n",
        "account.deposit(5000)\n",
        "account.withdrawal(8000)\n",
        "account.bankFees()\n",
        "account.display()\n"
      ],
      "metadata": {
        "id": "e-L_Hmv1x3QO",
        "colab": {
          "base_uri": "https://localhost:8080/"
        },
        "outputId": "b6eb52fa-49c8-4f1c-f14d-2fc244d39d8b"
      },
      "execution_count": 20,
      "outputs": [
        {
          "output_type": "stream",
          "name": "stdout",
          "text": [
            "Account Details:\n",
            "Account Number: 123456\n",
            "Account Owner: John\n",
            "Account Balance: 10000\n",
            "Deposited amount: 5000. New balance: 15000.\n",
            "Withdrew: 8000. New balance: 7000.\n",
            "Bank fees of 350.0 applied. New balance: 6650.0.\n",
            "Account Details:\n",
            "Account Number: 123456\n",
            "Account Owner: John\n",
            "Account Balance: 6650.0\n"
          ]
        }
      ]
    }
  ]
}