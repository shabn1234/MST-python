{
  "nbformat": 4,
  "nbformat_minor": 0,
  "metadata": {
    "colab": {
      "provenance": []
    },
    "kernelspec": {
      "name": "python3",
      "display_name": "Python 3"
    },
    "language_info": {
      "name": "python"
    }
  },
  "cells": [
    {
      "cell_type": "code",
      "execution_count": 7,
      "metadata": {
        "colab": {
          "base_uri": "https://localhost:8080/"
        },
        "id": "vScguCvfieDs",
        "outputId": "10055f10-c6d3-43ef-94a1-d050865a1f74"
      },
      "outputs": [
        {
          "output_type": "stream",
          "name": "stdout",
          "text": [
            "scores after sorting : [100, 90, 85, 75, 60]\n",
            "The runner-up score is: 90\n"
          ]
        }
      ],
      "source": [
        "### 1. Given the participants' score sheet for your University Sports Day, you are required to find the runner-up score. You are given scores. Store them in a list and find the score of the runner-up. (Create an array of scores and print the runner up score)\n",
        "\n",
        "\n",
        "scores = [85, 90, 75, 90, 60, 75, 100]\n",
        "unique_scores = sorted(set(scores),reverse= True)\n",
        "print(\"scores after sorting :\",unique_scores)\n",
        "# The second highest score is the runner-up\n",
        "runner_up = unique_scores[1]\n",
        "\n",
        "print(\"The runner-up score is:\", runner_up)\n",
        "\n"
      ]
    },
    {
      "cell_type": "code",
      "source": [
        "### 2. A dictionary is given D={‘John’ [25,32,43],’Peter’:[87,55,96],’Ram’:[58,55,43],’Meena’:[63,79,85]} Get a name from user if the name in the dictionary change the values corresponding to\n",
        "###that user to [88,77,99] and print the dictionary. Else print ‘Name not found’\n",
        "\n",
        "\n",
        "D = {\n",
        "    'John': [25, 32, 43],\n",
        "    'Peter': [87, 55, 96],\n",
        "    'Ram': [58, 55, 43],\n",
        "    'Meena': [63, 79, 85]\n",
        "}\n",
        "\n",
        "name = input(\"Enter a name: \")\n",
        "name_lower = name.lower()\n",
        "found_key = None\n",
        "for key in D:\n",
        "    if key.lower() == name_lower:\n",
        "        found_key = key\n",
        "        break\n",
        "\n",
        "if found_key:\n",
        "    D[found_key] = [88, 77, 99]\n",
        "    print(\"Updated dictionary:\", D)\n",
        "else:\n",
        "    print(\"Name not found.\")\n"
      ],
      "metadata": {
        "colab": {
          "base_uri": "https://localhost:8080/"
        },
        "id": "LYM-2IZClXD_",
        "outputId": "f6decc97-7a8d-4024-c7f7-9e626612c3c9"
      },
      "execution_count": 16,
      "outputs": [
        {
          "output_type": "stream",
          "name": "stdout",
          "text": [
            "Enter a name: MEENA\n",
            "Updated dictionary: {'John': [25, 32, 43], 'Peter': [87, 55, 96], 'Ram': [58, 55, 43], 'Meena': [88, 77, 99]}\n"
          ]
        }
      ]
    },
    {
      "cell_type": "code",
      "source": [
        "#### 3. Ticket Price Calculator:\n",
        "###    I. Ask the user to enter their age.\n",
        "####   II. Use control statements (if-elif-else) to calculate the ticket price based on the following conditions:\n",
        "####    a. If the age is below 5, the ticket price is free.\n",
        "####    b. If the age is between 5 and 12 (inclusive), the ticket price is Rs.10.\n",
        "####    c. If the age is above 12, the ticket price is Rs.50.\n",
        "####    d. If the age is above 60, the ticket price is free.\n",
        "###     e. If the gender is female, the ticket price is 50% of the applicable rates.\n",
        "####  III. Display the ticket price to the user.\n",
        "\n",
        "\n",
        "print(\"\\t\\t\\tTicket Price Calculator\\t\\t\\t\")\n",
        "\n",
        "age = int(input(\"Enter your age: \"))\n",
        "\n",
        "gender = input(\"Enter your gender (male/female): \").lower()\n",
        "\n",
        "if age < 5 or age > 60:\n",
        "    price = 0\n",
        "elif 5 <= age <= 12:\n",
        "    price = 10\n",
        "else:\n",
        "    price = 50\n",
        "\n",
        "if gender == \"female\":\n",
        "    price *= 0.5\n",
        "\n",
        "print(f\"Your ticket price is: Rs.{price:}\")\n"
      ],
      "metadata": {
        "colab": {
          "base_uri": "https://localhost:8080/"
        },
        "id": "znNTMoK8wwfR",
        "outputId": "dc3bca35-6680-437d-dc37-d2915037f2f4"
      },
      "execution_count": 13,
      "outputs": [
        {
          "output_type": "stream",
          "name": "stdout",
          "text": [
            "\t\t\tTicket Price Calculator\t\t\t\n",
            "Enter your age: 45\n",
            "Enter your gender (male/female): female\n",
            "Your ticket price is: Rs.25.0\n"
          ]
        }
      ]
    }
  ]
}