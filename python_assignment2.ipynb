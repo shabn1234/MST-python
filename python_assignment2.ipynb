{
  "nbformat": 4,
  "nbformat_minor": 0,
  "metadata": {
    "colab": {
      "provenance": []
    },
    "kernelspec": {
      "name": "python3",
      "display_name": "Python 3"
    },
    "language_info": {
      "name": "python"
    }
  },
  "cells": [
    {
      "cell_type": "code",
      "execution_count": null,
      "metadata": {
        "id": "P0y_Jxk48Zsm"
      },
      "outputs": [],
      "source": [
        "##### MST Python Week 2 Assignment\n",
        "\n",
        "####  1.  Write an interactive Python Program to implement following “Guess Game”\n",
        "####     i. Think of a number between 1 and 10 and store it in a variable called \"secretNumber\".\n",
        "####     ii. Ask the user to enter a number between 1 and 10 and store it in a variable called \"guess\".\n",
        "####     iii. Use control statements (if-else) to check if the guess is correct, higher, or lower than the secret number.\n",
        "####     iv. Display appropriate messages to the user based on their guess:\n",
        "####          • If the guess is correct, display \"Congratulations! You guessed the number correctly!\"\n",
        "####          • If the guess is higher than the secret number, display \"Too high! Try again.\"\n",
        "####          • If the guess is lower than the secret number, display \"Too low! Try again.\"\n",
        "####     v. Allow the user to keep guessing until they guess the correct number."
      ]
    },
    {
      "cell_type": "code",
      "source": [
        "import random\n",
        "secret_number = random.randint(1, 10)\n",
        "\n",
        "print(\"Welcome to the Guess Game!\")\n",
        "print(\"I have thought of a number between 1 and 10.\")\n",
        "\n",
        "while True:\n",
        "    guess = input(\"Enter your guess between 1 and 10: \")\n",
        "\n",
        "    if not guess.isdigit():\n",
        "        print(\"Invalid input. Please enter a number.\")\n",
        "    else:\n",
        "        guess = int(guess)\n",
        "\n",
        "        if guess < 1 or guess > 10:\n",
        "            print(\"Please enter a number between 1 and 10.\")\n",
        "        elif guess == secret_number:\n",
        "            print(\"Congratulations! You guessed the number correctly!\")\n",
        "            break\n",
        "        elif guess > secret_number:\n",
        "            print(\"Too high! Try again.\")\n",
        "        else:\n",
        "            print(\"Too low! Try again.\")\n"
      ],
      "metadata": {
        "colab": {
          "base_uri": "https://localhost:8080/"
        },
        "id": "4oulnNWIOVS_",
        "outputId": "9dd34da0-7205-4638-8e32-6b160f5a3748"
      },
      "execution_count": 34,
      "outputs": [
        {
          "output_type": "stream",
          "name": "stdout",
          "text": [
            "Welcome to the Guess Game!\n",
            "I have thought of a number between 1 and 10.\n",
            "Enter your guess between 1 and 10: h\n",
            "Invalid input. Please enter a number.\n",
            "Enter your guess between 1 and 10: 5\n",
            "Too low! Try again.\n",
            "Enter your guess between 1 and 10: 6\n",
            "Too low! Try again.\n",
            "Enter your guess between 1 and 10: 7\n",
            "Too low! Try again.\n",
            "Enter your guess between 1 and 10: 8\n",
            "Congratulations! You guessed the number correctly!\n"
          ]
        }
      ]
    },
    {
      "cell_type": "code",
      "source": [
        "##### 2 .Write a program to find and print the Factorial of this number. The Factorial of a positive integer N refers to the product of all number in the range from 1 to N.\n",
        "\n",
        "print(\"\\t\\t\\t FACTORIAL OF A NUMBER\\t\\t\\t\")\n",
        "\n",
        "num = int(input(\"Enter a number: \"))\n",
        "if num <= 0:\n",
        "    print(\"Enter a positive number\")\n",
        "else:\n",
        "    fact = 1\n",
        "    for i in range(1, num + 1):\n",
        "        fact *= i\n",
        "    print(f\"The factorial of {num} is {fact}\")\n"
      ],
      "metadata": {
        "colab": {
          "base_uri": "https://localhost:8080/"
        },
        "id": "kSWlry8WUIcf",
        "outputId": "7186fb85-7fc2-4679-feae-90b1132bb2bb"
      },
      "execution_count": 49,
      "outputs": [
        {
          "output_type": "stream",
          "name": "stdout",
          "text": [
            "\t\t\t FACTORIAL OF A NUMBER\t\t\t\n",
            "Enter a number: 5\n",
            "The factorial of 5 is 120\n"
          ]
        }
      ]
    },
    {
      "cell_type": "code",
      "source": [
        "####  Roy wants to change his profile picture on Facebook. Now Facebook has some restriction over the dimension of picture that we can upload.\n",
        "###   Minimum dimension of the picture can be L x L, where L is the length of the side of square.Now Roy has N photos of various dimensions.\n",
        "####  Dimension of a photo is denoted as W x H where W - width of the photo and H - Height of the photo\n",
        "####• When any photo is uploaded following events may occur:\n",
        "###   [1] If any of the width or height is less than L, user is prompted to upload another one. Print \"UPLOAD ANOTHER\" in this case.\n",
        "####  [2] If width and height, both are large enough and\n",
        "#####   (a) if the photo is already square then it is accepted. Print \"ACCEPTED\" in this case.\n",
        "\n",
        "#####   (b) else user is prompted to crop it. Print \"CROP IT\" in this case.Given L, N, W and H as input, write a program to print appropriate text as output.\n",
        "\n",
        "\n",
        "\n",
        "L = int(input(\"Enter the minimum dimension: \"))\n",
        "N = int(input(\"Enter number of photos to be uploaded: \"))\n",
        "\n",
        "for i in range(N):\n",
        "    W = int(input(f\"Enter the width of photo {i+1}: \"))\n",
        "    H = int(input(f\"Enter the height of photo {i+1}: \"))\n",
        "\n",
        "    if W < L or H < L:\n",
        "        print(\"UPLOAD ANOTHER\")\n",
        "    else:\n",
        "        if W == H:\n",
        "            print(\"ACCEPTED\")\n",
        "        else:\n",
        "            print(\"CROP IT\")\n",
        "\n",
        "\n"
      ],
      "metadata": {
        "colab": {
          "base_uri": "https://localhost:8080/"
        },
        "id": "-CASIIrPYxdZ",
        "outputId": "2be3f756-8b46-4841-a8de-486ecfe9c50e"
      },
      "execution_count": 46,
      "outputs": [
        {
          "output_type": "stream",
          "name": "stdout",
          "text": [
            "Enter the minimum dimension: 50\n",
            "Enter number of photos to be uploaded: 8\n",
            "Enter the width of photo 1: 70\n",
            "Enter the height of photo 1: 80\n",
            "CROP IT\n",
            "Enter the width of photo 2: 90\n",
            "Enter the height of photo 2: 80\n",
            "CROP IT\n",
            "Enter the width of photo 3: 50\n",
            "Enter the height of photo 3: 40\n",
            "UPLOAD ANOTHER\n",
            "Enter the width of photo 4: 90\n",
            "Enter the height of photo 4: 45\n",
            "UPLOAD ANOTHER\n",
            "Enter the width of photo 5: 50\n",
            "Enter the height of photo 5: 50\n",
            "ACCEPTED\n",
            "Enter the width of photo 6: 90\n",
            "Enter the height of photo 6: 100\n",
            "CROP IT\n",
            "Enter the width of photo 7: 50\n",
            "Enter the height of photo 7: 85\n",
            "CROP IT\n",
            "Enter the width of photo 8: 65\n",
            "Enter the height of photo 8: 65\n",
            "ACCEPTED\n"
          ]
        }
      ]
    }
  ]
}