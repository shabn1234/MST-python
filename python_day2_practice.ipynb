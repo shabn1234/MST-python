{
  "nbformat": 4,
  "nbformat_minor": 0,
  "metadata": {
    "colab": {
      "provenance": []
    },
    "kernelspec": {
      "name": "python3",
      "display_name": "Python 3"
    },
    "language_info": {
      "name": "python"
    }
  },
  "cells": [
    {
      "cell_type": "code",
      "execution_count": null,
      "metadata": {
        "colab": {
          "base_uri": "https://localhost:8080/"
        },
        "id": "4jvDjw9nCLxO",
        "outputId": "612a117a-5e3f-4c31-83a9-e3bdedf6b176"
      },
      "outputs": [
        {
          "output_type": "stream",
          "name": "stdout",
          "text": [
            "38\n"
          ]
        }
      ],
      "source": [
        "#### 1. Write a program to find sum of all elements in a list of integers\n",
        "lst = [5,6,7,5,2,1,5,4,3]\n",
        "print(sum(lst))"
      ]
    },
    {
      "cell_type": "code",
      "source": [
        " ####  2. Input a sentence as a string.\n",
        "###    a) Print its length\n",
        "###    b) Print the first half of string\n",
        "word = input('Enter a string : ')\n",
        "print(\"its length is \",len(word))\n",
        "first_half = word[:len(word) // 2]\n",
        "print(\"The first half of the string is:\", first_half)\n"
      ],
      "metadata": {
        "colab": {
          "base_uri": "https://localhost:8080/"
        },
        "id": "t4ReQSYgDicX",
        "outputId": "cca9022d-2e2a-4fab-fcfa-e460fd95902e"
      },
      "execution_count": null,
      "outputs": [
        {
          "output_type": "stream",
          "name": "stdout",
          "text": [
            "Enter a string : HELLO WORLD\n",
            "its length is  11\n",
            "The first half of the string is: HELLO\n"
          ]
        }
      ]
    },
    {
      "cell_type": "code",
      "source": [
        "#### 3. Write a program to enter a tuple of integers as (78,45,32,19,82,77,40,39). Change the third value in the tuple to 100\n",
        "\n",
        "tup = (78,45,32,19,82,77,40,39)\n",
        "tup_lst = list(tup)\n",
        "tup_lst[2] = 100\n",
        "new_tup = tuple(tup_lst)\n",
        "print(\"Modified tuple is \",new_tup)"
      ],
      "metadata": {
        "colab": {
          "base_uri": "https://localhost:8080/"
        },
        "id": "ImvcXe4OFlB4",
        "outputId": "5b6f0d5f-b7d3-4ebb-f01a-2e36cf1a0ac5"
      },
      "execution_count": null,
      "outputs": [
        {
          "output_type": "stream",
          "name": "stdout",
          "text": [
            "Modified tuple is  (78, 45, 100, 19, 82, 77, 40, 39)\n"
          ]
        }
      ]
    },
    {
      "cell_type": "code",
      "source": [
        " ## 4.Consider a list listA=[19,32,10,55,31,32,94,29,10,65,77,40,40]\n",
        "### (a) Delete the first occurrence of 32\n",
        "### (b) Delete all occurrences of 40\n",
        "### (c) Delete the value at index=5\n",
        "### (d) Modify the value at index=9 as 300\n",
        "### (e) Add 200 at index=2\n",
        "### (f) Print the final list with its length, maximum value and sum of all elements\n",
        "\n",
        "\n",
        "\n",
        "listA = [19, 32, 10, 55, 31, 32, 94, 29, 10, 65, 77, 40, 40]\n",
        "\n",
        "listA.remove(32)\n",
        "print(\"32 is removed from the list\", listA)\n",
        "\n",
        "\n",
        "listA = [x for x in listA if x != 40]\n",
        "\n",
        "del listA[5]\n",
        "\n",
        "while len(listA) <= 9:\n",
        "    listA.append(0)\n",
        "listA[9] = 300\n",
        "\n",
        "listA.insert(2, 200)\n",
        "\n",
        "\n",
        "print(\"Final list:\", listA)\n",
        "print(\"Length:\", len(listA))\n",
        "print(\"Maximum value:\", max(listA))\n",
        "print(\"Sum of elements:\", sum(listA))\n",
        "\n",
        "\n"
      ],
      "metadata": {
        "colab": {
          "base_uri": "https://localhost:8080/"
        },
        "id": "_VNFkC2xJ-g7",
        "outputId": "cd50ab36-1f88-4d95-fe51-0d2f7e51b428"
      },
      "execution_count": 9,
      "outputs": [
        {
          "output_type": "stream",
          "name": "stdout",
          "text": [
            "32 is removed from the list [19, 10, 55, 31, 32, 94, 29, 10, 65, 77, 40, 40]\n",
            "Final list: [19, 10, 200, 55, 31, 32, 29, 10, 65, 77, 300]\n",
            "Length: 11\n",
            "Maximum value: 300\n",
            "Sum of elements: 828\n"
          ]
        }
      ]
    },
    {
      "cell_type": "code",
      "source": [
        "### 5. Consider a string ”The day has been long”.\n",
        "##(a) Delete the value at index =4\n",
        "###(b) Print the string 4 times in a single line with space between each repetition\n",
        "###(c) Print the string 3 times in a new line each time\n",
        "###(d) Modify the string at index 7 as ’A’\n",
        "###(e) Print the string from index 4 to 15\n",
        "###(f) Print the final string with its length\n",
        "\n",
        "\n",
        "string = \"The day has been long\"\n",
        "\n",
        "string = string[:4] + string[5:]\n",
        "print(string)\n",
        "\n",
        "print((string + \" \") * 4)\n",
        "\n",
        "\n",
        "print((string + \"\\n\") * 3)\n",
        "\n",
        "string = string[:7] + \"A\" + string[8:]\n",
        "\n",
        "\n",
        "print(string[4:16])\n",
        "\n",
        "\n",
        "print(\"Final string:\", string)\n",
        "print(\"Length:\", len(string))\n"
      ],
      "metadata": {
        "id": "-BY-bBvBH7Nx",
        "colab": {
          "base_uri": "https://localhost:8080/"
        },
        "outputId": "9208bb45-9304-4048-bd3f-ef06fc287959"
      },
      "execution_count": 13,
      "outputs": [
        {
          "output_type": "stream",
          "name": "stdout",
          "text": [
            "The ay has been long\n",
            "The ay has been long The ay has been long The ay has been long The ay has been long \n",
            "The ay has been long\n",
            "The ay has been long\n",
            "The ay has been long\n",
            "\n",
            "ay Aas been \n",
            "Final string: The ay Aas been long\n",
            "Length: 20\n"
          ]
        }
      ]
    }
  ]
}